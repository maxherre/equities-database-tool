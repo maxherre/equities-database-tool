{
 "cells": [
  {
   "cell_type": "code",
   "execution_count": 53,
   "source": [],
   "outputs": [],
   "metadata": {}
  }
 ],
 "metadata": {
  "orig_nbformat": 4,
  "language_info": {
   "name": "python",
   "version": "3.8.6",
   "mimetype": "text/x-python",
   "codemirror_mode": {
    "name": "ipython",
    "version": 3
   },
   "pygments_lexer": "ipython3",
   "nbconvert_exporter": "python",
   "file_extension": ".py"
  },
  "kernelspec": {
   "name": "python3",
   "display_name": "Python 3.8.6 64-bit"
  },
  "interpreter": {
   "hash": "4300d021fabb90c35c09f3622b7ceeb7bbacda0585d90575d30c8b90f18ad5d0"
  }
 },
 "nbformat": 4,
 "nbformat_minor": 2
}